{
 "cells": [
  {
   "cell_type": "code",
   "execution_count": 2,
   "metadata": {},
   "outputs": [
    {
     "ename": "ModuleNotFoundError",
     "evalue": "No module named 'functions'",
     "output_type": "error",
     "traceback": [
      "\u001b[1;31m---------------------------------------------------------------------------\u001b[0m",
      "\u001b[1;31mModuleNotFoundError\u001b[0m                       Traceback (most recent call last)",
      "\u001b[1;32m<ipython-input-2-6db34ac8a91e>\u001b[0m in \u001b[0;36m<module>\u001b[1;34m()\u001b[0m\n\u001b[0;32m      1\u001b[0m \u001b[1;31m#module is the collection of python statements & definition\u001b[0m\u001b[1;33m\u001b[0m\u001b[1;33m\u001b[0m\u001b[0m\n\u001b[1;32m----> 2\u001b[1;33m \u001b[1;32mimport\u001b[0m \u001b[0mfunctions\u001b[0m\u001b[1;33m\u001b[0m\u001b[0m\n\u001b[0m",
      "\u001b[1;31mModuleNotFoundError\u001b[0m: No module named 'functions'"
     ]
    }
   ],
   "source": [
    "#module is the collection of python statements & definition\n",
    "import functions\n"
   ]
  },
  {
   "cell_type": "code",
   "execution_count": 3,
   "metadata": {},
   "outputs": [
    {
     "name": "stdout",
     "output_type": "stream",
     "text": [
      "3.141592653589793\n"
     ]
    }
   ],
   "source": [
    "import math\n",
    "print(math.pi)"
   ]
  },
  {
   "cell_type": "code",
   "execution_count": 6,
   "metadata": {},
   "outputs": [
    {
     "data": {
      "text/plain": [
       "datetime.datetime(2018, 8, 23, 18, 40, 44, 149394)"
      ]
     },
     "execution_count": 6,
     "metadata": {},
     "output_type": "execute_result"
    }
   ],
   "source": [
    "import datetime\n",
    "datetime.datetime.now()"
   ]
  },
  {
   "cell_type": "code",
   "execution_count": 9,
   "metadata": {},
   "outputs": [
    {
     "name": "stdout",
     "output_type": "stream",
     "text": [
      "3.141592653589793\n"
     ]
    }
   ],
   "source": [
    "import math as m\n",
    "print(m.pi)\n"
   ]
  },
  {
   "cell_type": "code",
   "execution_count": 11,
   "metadata": {},
   "outputs": [
    {
     "data": {
      "text/plain": [
       "datetime.datetime(2018, 8, 23, 18, 43, 0, 653201)"
      ]
     },
     "execution_count": 11,
     "metadata": {},
     "output_type": "execute_result"
    }
   ],
   "source": [
    "from datetime import datetime\n",
    "datetime.now()"
   ]
  },
  {
   "cell_type": "code",
   "execution_count": 12,
   "metadata": {},
   "outputs": [
    {
     "data": {
      "text/plain": [
       "3.141592653589793"
      ]
     },
     "execution_count": 12,
     "metadata": {},
     "output_type": "execute_result"
    }
   ],
   "source": [
    "from math import *\n",
    "math.pi"
   ]
  },
  {
   "cell_type": "code",
   "execution_count": 14,
   "metadata": {},
   "outputs": [
    {
     "data": {
      "text/plain": [
       "['MutableMapping',\n",
       " 'RcParams',\n",
       " 'URL_REGEX',\n",
       " 'Verbose',\n",
       " '_DATA_DOC_APPENDIX',\n",
       " '__bibtex__',\n",
       " '__builtins__',\n",
       " '__cached__',\n",
       " '__doc__',\n",
       " '__file__',\n",
       " '__loader__',\n",
       " '__name__',\n",
       " '__package__',\n",
       " '__path__',\n",
       " '__spec__',\n",
       " '__version__',\n",
       " '__version__numpy__',\n",
       " '__warningregistry__',\n",
       " '_add_data_doc',\n",
       " '_all_deprecated',\n",
       " '_backports',\n",
       " '_color_data',\n",
       " '_create_tmp_config_dir',\n",
       " '_decode_filesystem_path',\n",
       " '_deprecated_ignore_map',\n",
       " '_deprecated_map',\n",
       " '_deprecated_set',\n",
       " '_error_details_fmt',\n",
       " '_get_cachedir',\n",
       " '_get_config_or_cache_dir',\n",
       " '_get_configdir',\n",
       " '_get_data_path',\n",
       " '_get_data_path_cached',\n",
       " '_get_home',\n",
       " '_get_xdg_cache_dir',\n",
       " '_get_xdg_config_dir',\n",
       " '_init_tests',\n",
       " '_is_writable_dir',\n",
       " '_log',\n",
       " '_obsolete_set',\n",
       " '_open_file_or_url',\n",
       " '_parse_commandline',\n",
       " '_preprocess_data',\n",
       " '_python27',\n",
       " '_python34',\n",
       " '_rc_params_in_file',\n",
       " '_replacer',\n",
       " '_set_logger_verbose_level',\n",
       " '_url_lines',\n",
       " '_use_error_msg',\n",
       " '_verbose_msg',\n",
       " '_version',\n",
       " '_wrap',\n",
       " 'absolute_import',\n",
       " 'atexit',\n",
       " 'cbook',\n",
       " 'checkdep_dvipng',\n",
       " 'checkdep_ghostscript',\n",
       " 'checkdep_inkscape',\n",
       " 'checkdep_pdftops',\n",
       " 'checkdep_ps_distiller',\n",
       " 'checkdep_tex',\n",
       " 'checkdep_usetex',\n",
       " 'checkdep_xmllint',\n",
       " 'colors',\n",
       " 'compare_versions',\n",
       " 'compat',\n",
       " 'contextlib',\n",
       " 'cycler',\n",
       " 'dateutil',\n",
       " 'dedent',\n",
       " 'defaultParams',\n",
       " 'default_test_modules',\n",
       " 'distutils',\n",
       " 'division',\n",
       " 'fontconfig_pattern',\n",
       " 'functools',\n",
       " 'get_backend',\n",
       " 'get_cachedir',\n",
       " 'get_configdir',\n",
       " 'get_data_path',\n",
       " 'get_home',\n",
       " 'get_label',\n",
       " 'get_py2exe_datafiles',\n",
       " 'inspect',\n",
       " 'interactive',\n",
       " 'io',\n",
       " 'is_interactive',\n",
       " 'is_url',\n",
       " 'itertools',\n",
       " 'locale',\n",
       " 'logging',\n",
       " 'matplotlib_fname',\n",
       " 'mplDeprecation',\n",
       " 'numpy',\n",
       " 'os',\n",
       " 'print_function',\n",
       " 'pyparsing',\n",
       " 'rc',\n",
       " 'rcParams',\n",
       " 'rcParamsDefault',\n",
       " 'rcParamsOrig',\n",
       " 'rc_context',\n",
       " 'rc_file',\n",
       " 'rc_file_defaults',\n",
       " 'rc_params',\n",
       " 'rc_params_from_file',\n",
       " 'rcdefaults',\n",
       " 'rcsetup',\n",
       " 're',\n",
       " 'reload',\n",
       " 'sanitize_sequence',\n",
       " 'shutil',\n",
       " 'six',\n",
       " 'stat',\n",
       " 'subprocess',\n",
       " 'sys',\n",
       " 'tempfile',\n",
       " 'test',\n",
       " 'testing',\n",
       " 'tk_window_focus',\n",
       " 'urlopen',\n",
       " 'use',\n",
       " 'validate_backend',\n",
       " 'verbose',\n",
       " 'warnings']"
      ]
     },
     "execution_count": 14,
     "metadata": {},
     "output_type": "execute_result"
    }
   ],
   "source": [
    "import matplotlib as m\n",
    "dir(m)"
   ]
  },
  {
   "cell_type": "code",
   "execution_count": null,
   "metadata": {},
   "outputs": [],
   "source": []
  }
 ],
 "metadata": {
  "kernelspec": {
   "display_name": "Python 3",
   "language": "python",
   "name": "python3"
  },
  "language_info": {
   "codemirror_mode": {
    "name": "ipython",
    "version": 3
   },
   "file_extension": ".py",
   "mimetype": "text/x-python",
   "name": "python",
   "nbconvert_exporter": "python",
   "pygments_lexer": "ipython3",
   "version": "3.6.5"
  }
 },
 "nbformat": 4,
 "nbformat_minor": 2
}
