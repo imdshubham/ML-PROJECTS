{
 "cells": [
  {
   "cell_type": "code",
   "execution_count": 1,
   "metadata": {},
   "outputs": [
    {
     "name": "stdout",
     "output_type": "stream",
     "text": [
      "4\n"
     ]
    }
   ],
   "source": [
    "emptylist=[] #empty list\n",
    "catalstofstring=['catalist','effigrity','vsitfresh'] #list\n",
    "listoflist=[[1,2],[2,3],[3,4]] #list of list\n",
    "print(listoflist[2][1])"
   ]
  },
  {
   "cell_type": "code",
   "execution_count": 4,
   "metadata": {},
   "outputs": [
    {
     "name": "stdout",
     "output_type": "stream",
     "text": [
      "5\n"
     ]
    }
   ],
   "source": [
    "#length of list\n",
    "\n",
    "list=[1,2,3,'catalyst',\"visitfresh\"]\n",
    "print(len(list))"
   ]
  },
  {
   "cell_type": "code",
   "execution_count": 19,
   "metadata": {},
   "outputs": [
    {
     "name": "stdout",
     "output_type": "stream",
     "text": [
      "['catalyst', 'effigrity....', 1]\n"
     ]
    }
   ],
   "source": [
    "#appending list\n",
    "\n",
    "list=['catalyst',\"effigrity....\"]\n",
    "list.append(1)\n",
    "print(list)"
   ]
  },
  {
   "cell_type": "code",
   "execution_count": 16,
   "metadata": {},
   "outputs": [
    {
     "name": "stdout",
     "output_type": "stream",
     "text": [
      "['catalyst', 'effigrity....', 'palekar', 1]\n"
     ]
    }
   ],
   "source": [
    "\n",
    "#inserting an element at perticular index \n",
    "#list.insert(index, element to be inserted)\n",
    "list.insert(2, 'palekar')\n",
    "print(list)"
   ]
  },
  {
   "cell_type": "code",
   "execution_count": 17,
   "metadata": {},
   "outputs": [
    {
     "name": "stdout",
     "output_type": "stream",
     "text": [
      "['catalyst', 'effigrity....', 1]\n"
     ]
    }
   ],
   "source": [
    "#removing from the index\n",
    "#it removes only the first occurance of the given value\n",
    "list.remove('palekar')\n",
    "print(list)"
   ]
  },
  {
   "cell_type": "code",
   "execution_count": 21,
   "metadata": {},
   "outputs": [
    {
     "name": "stdout",
     "output_type": "stream",
     "text": [
      "['python', 'machine learning', ['java', 'css', 'html', 'hg']]\n"
     ]
    }
   ],
   "source": [
    "list1=['python','machine learning',]\n",
    "list2=['java','css','html','hg']\n",
    "list1.append(list2)   #it appends entire list as it is...\n",
    "print(list1)"
   ]
  },
  {
   "cell_type": "code",
   "execution_count": 22,
   "metadata": {},
   "outputs": [
    {
     "name": "stdout",
     "output_type": "stream",
     "text": [
      "['c programming', 'data structure', 'algorithm', 'interview tech', 'appti']\n"
     ]
    }
   ],
   "source": [
    "list1=['c programming','data structure','algorithm']\n",
    "list2=['interview tech','appti']\n",
    "list1.extend(list2)   #extend function will join the list\n",
    "print(list1)"
   ]
  },
  {
   "cell_type": "code",
   "execution_count": 23,
   "metadata": {},
   "outputs": [
    {
     "name": "stdout",
     "output_type": "stream",
     "text": [
      "['c programming', 'data structure', 'interview tech', 'appti']\n"
     ]
    }
   ],
   "source": [
    "#delete function \n",
    "#it removes item on the given index\n",
    "del list1[2]\n",
    "print(list1)"
   ]
  },
  {
   "cell_type": "code",
   "execution_count": 25,
   "metadata": {},
   "outputs": [
    {
     "name": "stdout",
     "output_type": "stream",
     "text": [
      "appti\n",
      "['c programming', 'data structure']\n"
     ]
    }
   ],
   "source": [
    "#pop function \n",
    "#it removes & returns \n",
    "p=list1.pop(2)\n",
    "print(p)\n",
    "print(list1)"
   ]
  },
  {
   "cell_type": "code",
   "execution_count": 1,
   "metadata": {},
   "outputs": [
    {
     "ename": "NameError",
     "evalue": "name 'list1' is not defined",
     "output_type": "error",
     "traceback": [
      "\u001b[1;31m---------------------------------------------------------------------------\u001b[0m",
      "\u001b[1;31mNameError\u001b[0m                                 Traceback (most recent call last)",
      "\u001b[1;32m<ipython-input-1-73606d6f2cbb>\u001b[0m in \u001b[0;36m<module>\u001b[1;34m()\u001b[0m\n\u001b[0;32m      1\u001b[0m \u001b[1;31m#in and not in function\u001b[0m\u001b[1;33m\u001b[0m\u001b[1;33m\u001b[0m\u001b[0m\n\u001b[1;32m----> 2\u001b[1;33m \u001b[1;32mif\u001b[0m \u001b[1;34m'c programming'\u001b[0m \u001b[1;32min\u001b[0m \u001b[0mlist1\u001b[0m\u001b[1;33m:\u001b[0m\u001b[1;33m\u001b[0m\u001b[0m\n\u001b[0m\u001b[0;32m      3\u001b[0m     \u001b[0mprint\u001b[0m\u001b[1;33m(\u001b[0m\u001b[1;34m\"placement catalyst\"\u001b[0m\u001b[1;33m)\u001b[0m\u001b[1;33m\u001b[0m\u001b[0m\n\u001b[0;32m      4\u001b[0m \u001b[1;32mif\u001b[0m \u001b[1;34m'data structures'\u001b[0m \u001b[1;32mnot\u001b[0m \u001b[1;32min\u001b[0m \u001b[0mlist1\u001b[0m\u001b[1;33m:\u001b[0m\u001b[1;33m\u001b[0m\u001b[0m\n\u001b[0;32m      5\u001b[0m     \u001b[0mprint\u001b[0m\u001b[1;33m(\u001b[0m\u001b[1;34m\"incomplete list\"\u001b[0m\u001b[1;33m)\u001b[0m\u001b[1;33m\u001b[0m\u001b[0m\n",
      "\u001b[1;31mNameError\u001b[0m: name 'list1' is not defined"
     ]
    }
   ],
   "source": [
    "#in and not in function\n",
    "if 'c programming' in list1:\n",
    "    print(\"placement catalyst\")\n",
    "if 'data structures' not in list1:\n",
    "    print(\"incomplete list\")"
   ]
  },
  {
   "cell_type": "code",
   "execution_count": 28,
   "metadata": {},
   "outputs": [
    {
     "name": "stdout",
     "output_type": "stream",
     "text": [
      "['data structure', 'c programming']\n"
     ]
    }
   ],
   "source": [
    "list1.reverse()\n",
    "print(list1)"
   ]
  },
  {
   "cell_type": "code",
   "execution_count": 32,
   "metadata": {},
   "outputs": [
    {
     "name": "stdout",
     "output_type": "stream",
     "text": [
      "[1, 2, 1000, 200]\n",
      "[1, 2, 200, 1000]\n"
     ]
    }
   ],
   "source": [
    "#sort function\n",
    "\n",
    "list1=[1,2,1000,200]\n",
    "sorted_list=sorted(list1)\n",
    "print(list1)\n",
    "print(sorted_list)"
   ]
  },
  {
   "cell_type": "code",
   "execution_count": 2,
   "metadata": {},
   "outputs": [
    {
     "name": "stdout",
     "output_type": "stream",
     "text": [
      "['sort', 'search', 1, 2]\n"
     ]
    }
   ],
   "source": [
    "list1=['sort','search',1,2]\n",
    "print(list1)"
   ]
  },
  {
   "cell_type": "code",
   "execution_count": 3,
   "metadata": {},
   "outputs": [
    {
     "name": "stdout",
     "output_type": "stream",
     "text": [
      "['html', 'js', 'css', 'php']\n"
     ]
    }
   ],
   "source": [
    "list_of_subjects=['html','js','css']\n",
    "list_of_new_sub=list_of_subjects\n",
    "list_of_subjects.append('php')\n",
    "print(list_of_new_sub)"
   ]
  },
  {
   "cell_type": "code",
   "execution_count": 7,
   "metadata": {},
   "outputs": [
    {
     "name": "stdout",
     "output_type": "stream",
     "text": [
      "['html', 'php', 'css', 'java']\n"
     ]
    }
   ],
   "source": [
    "#split function\n",
    "splitlesson=\"html,php,css,java\"\n",
    "splitList=splitlesson.split(',')\n",
    "print(splitList)"
   ]
  },
  {
   "cell_type": "code",
   "execution_count": 10,
   "metadata": {},
   "outputs": [
    {
     "name": "stdout",
     "output_type": "stream",
     "text": [
      "['i', 'am', 'studying', 'in', 'a', 'effigrity']\n"
     ]
    }
   ],
   "source": [
    "splitstring=\"i am studying in a effigrity\"\n",
    "splitlist=splitstring.split() #declare the space for separation purpose\n",
    "print(splitlist)"
   ]
  },
  {
   "cell_type": "code",
   "execution_count": 12,
   "metadata": {},
   "outputs": [
    {
     "name": "stdout",
     "output_type": "stream",
     "text": [
      "1\n",
      "5\n"
     ]
    }
   ],
   "source": [
    "indxList=[1,2,3,4,5,4]\n",
    "print(indxList[0])\n",
    "\n",
    "print(indxList[-2])"
   ]
  },
  {
   "cell_type": "code",
   "execution_count": 17,
   "metadata": {},
   "outputs": [
    {
     "name": "stdout",
     "output_type": "stream",
     "text": [
      "[1, 2, 3, 4, 5, 55, 6]\n",
      "[1, 2, 3, 4, 5, 55, 6]\n",
      "[1, 2, 3, 4, 5]\n",
      "[1, 2, 3, 4, 5, 55, 6]\n",
      "[1, 2, 3, 4, 5]\n"
     ]
    }
   ],
   "source": [
    "#list slicing\n",
    "numberList=[1,2,3,4,5,55,6]\n",
    "print(numberList)\n",
    "print(numberList[:])   #strt index : end index\n",
    "\n",
    "#print the first 5 no...\n",
    "print(numberList[:5])  #it will  by default take from first no....\n",
    "print(numberList[0:])  #it will  by default take upto last no....\n",
    "print(numberList[0:5])  #it will print from 0th no. to the last no....\n"
   ]
  },
  {
   "cell_type": "code",
   "execution_count": 21,
   "metadata": {},
   "outputs": [
    {
     "name": "stdout",
     "output_type": "stream",
     "text": [
      "[1, 3, 5, 6]\n",
      "[3, 5, 6]\n",
      "[2, 5]\n"
     ]
    }
   ],
   "source": [
    "#it will priint the no. alternatively\n",
    "print(numberList[::2])\n",
    "print(numberList[2::2])  #it will start printing fromm 2nd position\n",
    "print(numberList[1::3])"
   ]
  },
  {
   "cell_type": "code",
   "execution_count": 20,
   "metadata": {},
   "outputs": [
    {
     "name": "stdout",
     "output_type": "stream",
     "text": [
      "[1, 2, 3, 4, 'shubham ', 'dodke', 'samarth']\n"
     ]
    }
   ],
   "source": [
    "new1=[1,2,3,4]\n",
    "new2=[\"shubham \",\"dodke\",\"samarth\"]\n",
    "new3=new1+new2\n",
    "print(new3)"
   ]
  },
  {
   "cell_type": "code",
   "execution_count": 24,
   "metadata": {},
   "outputs": [
    {
     "name": "stdout",
     "output_type": "stream",
     "text": [
      "7\n"
     ]
    }
   ],
   "source": [
    "#list count\n",
    "\n",
    "myno = [1,2,3,35,5,5,6,5,40,5,5,5,5]\n",
    "print(myno.count(5))"
   ]
  },
  {
   "cell_type": "code",
   "execution_count": 26,
   "metadata": {},
   "outputs": [
    {
     "name": "stdout",
     "output_type": "stream",
     "text": [
      "2\n",
      "4\n",
      "6\n",
      "70\n",
      "10\n",
      "10\n",
      "12\n",
      "10\n",
      "80\n",
      "10\n",
      "10\n",
      "10\n",
      "10\n"
     ]
    }
   ],
   "source": [
    "#looping inside the list\n",
    "myno = [1,2,3,35,5,5,6,5,40,5,5,5,5]\n",
    "for i in myno:\n",
    "    print(i*2)"
   ]
  },
  {
   "cell_type": "code",
   "execution_count": 2,
   "metadata": {},
   "outputs": [
    {
     "name": "stdout",
     "output_type": "stream",
     "text": [
      "[1, 4, 9, 16, 25]\n"
     ]
    }
   ],
   "source": [
    "#wap to squaring a list nd store it into the new list\n",
    "newlist=[]\n",
    "mynumber=[1,2,3,4,5]\n",
    "for i in mynumber:\n",
    "    newlist.append(i*i)\n",
    "print(newlist)"
   ]
  },
  {
   "cell_type": "code",
   "execution_count": 3,
   "metadata": {},
   "outputs": [
    {
     "name": "stdout",
     "output_type": "stream",
     "text": [
      "[1, 4, 9, 16, 25]\n"
     ]
    }
   ],
   "source": [
    "#list comprehension function\n",
    "squarelist2=[i**2 for i in mynumber]\n",
    "print(squarelist2)"
   ]
  },
  {
   "cell_type": "code",
   "execution_count": 11,
   "metadata": {},
   "outputs": [
    {
     "name": "stdout",
     "output_type": "stream",
     "text": [
      "[4, 10, 12, 14, 16]\n",
      "[(0, 1), (1, 1), (2, 4), (3, 27), (4, 256), (5, 3125), (6, 46656), (7, 823543), (8, 16777216), (9, 387420489)]\n"
     ]
    }
   ],
   "source": [
    "newlist=[-10,2,-4,5,6,7,8]\n",
    "#doubling list using comprehension only the +ve no.\n",
    "doublelist=[i*2 for i in newlist if i>0]\n",
    "print(doublelist)\n",
    "#print the squares in the form of tupples\n",
    "tupplelist=[(i,i**i) for i in range(10)]\n",
    "print(tupplelist)"
   ]
  },
  {
   "cell_type": "code",
   "execution_count": 4,
   "metadata": {},
   "outputs": [
    {
     "name": "stdout",
     "output_type": "stream",
     "text": [
      "[[1, 4, 7], [2, 5, 8], [3, 6, 9]]\n"
     ]
    }
   ],
   "source": [
    "#transpose of matrix\n",
    "mymatrix=[[1,2,3],     #her j is individual element nd i is the list i.e. [1,2,3]\n",
    "           [4,5,6],\n",
    "           [7,8,9]]\n",
    "transposeofmatrix=[]\n",
    "for i in range (3):\n",
    "    emptylist=[]\n",
    "    for j in mymatrix:\n",
    "        emptylist.append(j[i])\n",
    "    transposeofmatrix.append(emptylist)\n",
    "print(transposeofmatrix)"
   ]
  },
  {
   "cell_type": "code",
   "execution_count": 8,
   "metadata": {},
   "outputs": [
    {
     "name": "stdout",
     "output_type": "stream",
     "text": [
      "[[1, 4, 7], [2, 5, 8], [3, 6, 9]]\n"
     ]
    }
   ],
   "source": [
    "transposeofmatrix=[[j[i]for j in mymatrix]for i in range(3)]\n",
    "print(transposeofmatrix)"
   ]
  },
  {
   "cell_type": "code",
   "execution_count": null,
   "metadata": {},
   "outputs": [],
   "source": [
    "transposeofmatrix=[[j[i]for j in mymatrix]for i in range(3)]\n",
    "print(transposeofmatrix)"
   ]
  },
  {
   "cell_type": "code",
   "execution_count": null,
   "metadata": {},
   "outputs": [],
   "source": []
  },
  {
   "cell_type": "code",
   "execution_count": null,
   "metadata": {},
   "outputs": [],
   "source": []
  },
  {
   "cell_type": "code",
   "execution_count": null,
   "metadata": {},
   "outputs": [],
   "source": []
  }
 ],
 "metadata": {
  "kernelspec": {
   "display_name": "Python 3",
   "language": "python",
   "name": "python3"
  },
  "language_info": {
   "codemirror_mode": {
    "name": "ipython",
    "version": 3
   },
   "file_extension": ".py",
   "mimetype": "text/x-python",
   "name": "python",
   "nbconvert_exporter": "python",
   "pygments_lexer": "ipython3",
   "version": "3.6.5"
  }
 },
 "nbformat": 4,
 "nbformat_minor": 2
}
