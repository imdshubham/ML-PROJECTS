{
 "cells": [
  {
   "cell_type": "code",
   "execution_count": 2,
   "metadata": {},
   "outputs": [
    {
     "ename": "SyntaxError",
     "evalue": "invalid syntax (<ipython-input-2-efe6f8e80f42>, line 8)",
     "output_type": "error",
     "traceback": [
      "\u001b[1;36m  File \u001b[1;32m\"<ipython-input-2-efe6f8e80f42>\"\u001b[1;36m, line \u001b[1;32m8\u001b[0m\n\u001b[1;33m    'name'='brocolli',\u001b[0m\n\u001b[1;37m          ^\u001b[0m\n\u001b[1;31mSyntaxError\u001b[0m\u001b[1;31m:\u001b[0m invalid syntax\n"
     ]
    }
   ],
   "source": [
    "#dictionary use as a keyvalue\n",
    "#empty dictionary\n",
    "d1={}\n",
    "\n",
    "l1=['vegetable','exotic veg','brocolli',1.5,2,400,200]\n",
    "d2={'category':'vegetable',\n",
    "   'sub_category':'exotic veg',\n",
    "   'name'='brocolli',\n",
    "   'sku1':1.5,\n",
    "   'sku2':2,\n",
    "   'price'=400,\n",
    "   'price2'=200}\n",
    "\n",
    "d3={'category':'vegetable',\n",
    "   'sub_category':'exotic veg',\n",
    "   'name':'brocolli',\n",
    "    'sku':[1.5,2]\n",
    "    'price':[400,200]}\n",
    "print(d3[name])\n",
    "print(d3[price])"
   ]
  },
  {
   "cell_type": "code",
   "execution_count": 4,
   "metadata": {},
   "outputs": [
    {
     "name": "stdout",
     "output_type": "stream",
     "text": [
      "brocolli\n",
      "[400, 200]\n"
     ]
    }
   ],
   "source": [
    "d3={'category':'vegetable',\n",
    "   'sub_category':'exotic veg',\n",
    "   'name':'brocolli',\n",
    "    'sku':[1.5,2],\n",
    "    'price':[400,200]}\n",
    "print(d3['name'])\n",
    "print(d3['price'])"
   ]
  },
  {
   "cell_type": "code",
   "execution_count": 5,
   "metadata": {},
   "outputs": [
    {
     "name": "stdout",
     "output_type": "stream",
     "text": [
      "1.5\n"
     ]
    }
   ],
   "source": [
    "#accessing the 1st element\n",
    "print(d3['sku'][0])"
   ]
  },
  {
   "cell_type": "code",
   "execution_count": 7,
   "metadata": {},
   "outputs": [
    {
     "name": "stdout",
     "output_type": "stream",
     "text": [
      "{'category': 'vegetable', 'sub_category': 'exotic veg', 'name': 'bellpeper', 'sku': [1.5, 2], 'price': [400, 200]}\n"
     ]
    }
   ],
   "source": [
    "#to update the element in the dictionary\n",
    "d3['name']='bellpeper'\n",
    "print(d3)"
   ]
  },
  {
   "cell_type": "code",
   "execution_count": 8,
   "metadata": {},
   "outputs": [
    {
     "name": "stdout",
     "output_type": "stream",
     "text": [
      "{'category': 'vegetable', 'sub_category': 'exotic veg', 'name': 'bellpeper', 'sku': [1.5, 2], 'price': [400, 200], 'name1': 'bellpeper'}\n"
     ]
    }
   ],
   "source": [
    "#adding a new element in the dictionary\n",
    "d3['name1']='bellpeper'\n",
    "print(d3)"
   ]
  },
  {
   "cell_type": "code",
   "execution_count": 12,
   "metadata": {},
   "outputs": [
    {
     "name": "stdout",
     "output_type": "stream",
     "text": [
      "{'category': 'vegetable', 'sub_category': 'exotic veg', 'sku': [1.5, 2], 'price': [400, 200]}\n"
     ]
    }
   ],
   "source": [
    "#delete the element from dictionary\n",
    "del d3['name']\n",
    "print(d3)"
   ]
  },
  {
   "cell_type": "code",
   "execution_count": 13,
   "metadata": {},
   "outputs": [
    {
     "name": "stdout",
     "output_type": "stream",
     "text": [
      "{}\n"
     ]
    }
   ],
   "source": [
    "d3.clear()  #it will clear all the dictionary\n",
    "\n",
    "print(d3)"
   ]
  },
  {
   "cell_type": "code",
   "execution_count": 3,
   "metadata": {},
   "outputs": [
    {
     "name": "stdout",
     "output_type": "stream",
     "text": [
      "brocolli\n",
      "[400, 200]\n"
     ]
    }
   ],
   "source": [
    "d4={'category':'vegetable',\n",
    "   'sub_category':'exotic veg',\n",
    "   'name':'brocolli',\n",
    "    'sku':[1.5,2],\n",
    "    'price':[400,200]}\n",
    "print(d4['name'])\n",
    "print(d4['price'])"
   ]
  },
  {
   "cell_type": "code",
   "execution_count": 4,
   "metadata": {},
   "outputs": [
    {
     "name": "stdout",
     "output_type": "stream",
     "text": [
      "{'category': 'vegetable', 'sub_category': 'exotic veg', 'name': 'brocolli', 'sku': [1.5, 2], 'price': [400, 200]}\n"
     ]
    }
   ],
   "source": [
    "d5=d4.copy()     #it will copy the entire dictionary into other dictionary\n",
    "print(d5)"
   ]
  },
  {
   "cell_type": "code",
   "execution_count": 21,
   "metadata": {},
   "outputs": [
    {
     "name": "stdout",
     "output_type": "stream",
     "text": [
      "{'category': 0, 'sub_category': 0, 'name': 0}\n"
     ]
    }
   ],
   "source": [
    "d6={}.fromkeys(['category','sub_category','name'],0)\n",
    "print(d6)"
   ]
  },
  {
   "cell_type": "code",
   "execution_count": 22,
   "metadata": {},
   "outputs": [
    {
     "name": "stdout",
     "output_type": "stream",
     "text": [
      "dict_items([('category', 'vegetabes'), ('sub_category', 'regular'), ('name', 'tomato')])\n"
     ]
    }
   ],
   "source": [
    "d6={'category':'vegetabes',\n",
    "   'sub_category':'regular',\n",
    "   'name':'tomato'}\n",
    "print(d6.items())    #it will show the key:values in dictionary"
   ]
  },
  {
   "cell_type": "code",
   "execution_count": 23,
   "metadata": {},
   "outputs": [
    {
     "name": "stdout",
     "output_type": "stream",
     "text": [
      "dict_values(['vegetabes', 'regular', 'tomato'])\n"
     ]
    }
   ],
   "source": [
    "#only retrieves the values\n",
    "print(d6.values())"
   ]
  },
  {
   "cell_type": "code",
   "execution_count": 24,
   "metadata": {},
   "outputs": [
    {
     "name": "stdout",
     "output_type": "stream",
     "text": [
      "dict_keys(['category', 'sub_category', 'name', 'sku', 'price'])\n"
     ]
    }
   ],
   "source": [
    "#only retrieves the keys\n",
    "print(d5.keys())"
   ]
  },
  {
   "cell_type": "code",
   "execution_count": 26,
   "metadata": {},
   "outputs": [
    {
     "name": "stdout",
     "output_type": "stream",
     "text": [
      "['__class__', '__contains__', '__delattr__', '__delitem__', '__dir__', '__doc__', '__eq__', '__format__', '__ge__', '__getattribute__', '__getitem__', '__gt__', '__hash__', '__init__', '__init_subclass__', '__iter__', '__le__', '__len__', '__lt__', '__ne__', '__new__', '__reduce__', '__reduce_ex__', '__repr__', '__setattr__', '__setitem__', '__sizeof__', '__str__', '__subclasshook__', 'clear', 'copy', 'fromkeys', 'get', 'items', 'keys', 'pop', 'popitem', 'setdefault', 'update', 'values']\n"
     ]
    }
   ],
   "source": [
    "d6={}\n",
    "print(dir(d6))"
   ]
  },
  {
   "cell_type": "code",
   "execution_count": 27,
   "metadata": {},
   "outputs": [
    {
     "name": "stdout",
     "output_type": "stream",
     "text": [
      "('category', 'vegetable')\n",
      "('sub_category', 'exotic veg')\n",
      "('name', 'brocolli')\n",
      "('sku', [1.5, 2])\n",
      "('price', [400, 200])\n"
     ]
    }
   ],
   "source": [
    "#retrieve the elements using loop\n",
    "for index in d5.items():\n",
    "    print(index)"
   ]
  },
  {
   "cell_type": "code",
   "execution_count": 5,
   "metadata": {},
   "outputs": [
    {
     "name": "stdout",
     "output_type": "stream",
     "text": [
      "{'category': 'vegetable', 'sub_category': 'exotic veg', 'name': 'brocolli', 'sku': [1.5, 2], 'price': [400, 200]}\n"
     ]
    }
   ],
   "source": [
    "# dictionary comprehension\n",
    "d7={key:value for key,value in d5.items()}\n",
    "print(d7)"
   ]
  },
  {
   "cell_type": "code",
   "execution_count": 1,
   "metadata": {},
   "outputs": [
    {
     "name": "stdout",
     "output_type": "stream",
     "text": [
      "{'brocolli500gms': 200.0, 'lettuce500gms': 300.0, 'thai ginger500gms': 250.0, 'asparagus500gms': 175.0}\n"
     ]
    }
   ],
   "source": [
    "#wap to shoe the items which are >250 & values of half kg.....\n",
    "d8={'brocolli':400,\n",
    "   'bellpeper':250,\n",
    "   'lettuce':600,\n",
    "   'thai ginger':500,\n",
    "   'avocado':100,\n",
    "   'asparagus':350}\n",
    "d9={key+'500gms':value/2 for key,value in d8.items() if value>250}\n",
    "print(d9)"
   ]
  },
  {
   "cell_type": "code",
   "execution_count": null,
   "metadata": {},
   "outputs": [],
   "source": [
    "\n"
   ]
  },
  {
   "cell_type": "code",
   "execution_count": null,
   "metadata": {},
   "outputs": [],
   "source": []
  },
  {
   "cell_type": "code",
   "execution_count": null,
   "metadata": {},
   "outputs": [],
   "source": []
  }
 ],
 "metadata": {
  "kernelspec": {
   "display_name": "Python 3",
   "language": "python",
   "name": "python3"
  },
  "language_info": {
   "codemirror_mode": {
    "name": "ipython",
    "version": 3
   },
   "file_extension": ".py",
   "mimetype": "text/x-python",
   "name": "python",
   "nbconvert_exporter": "python",
   "pygments_lexer": "ipython3",
   "version": "3.6.5"
  }
 },
 "nbformat": 4,
 "nbformat_minor": 2
}
