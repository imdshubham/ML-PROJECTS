{
 "cells": [
  {
   "cell_type": "code",
   "execution_count": 6,
   "metadata": {},
   "outputs": [],
   "source": [
    "#functions\n",
    "def print_name(name):\n",
    "    \"\"\"\n",
    "    this function is used for printing name\n",
    "    \"\"\"\n",
    "    print(\"hello \"+str(name))\n",
    "    "
   ]
  },
  {
   "cell_type": "code",
   "execution_count": 7,
   "metadata": {},
   "outputs": [
    {
     "name": "stdout",
     "output_type": "stream",
     "text": [
      "hello shubham\n"
     ]
    }
   ],
   "source": [
    "print_name('shubham')"
   ]
  },
  {
   "cell_type": "code",
   "execution_count": 9,
   "metadata": {},
   "outputs": [
    {
     "name": "stdout",
     "output_type": "stream",
     "text": [
      "\n",
      "    this function is used for printing name\n",
      "    \n"
     ]
    }
   ],
   "source": [
    "print(print_name.__doc__)"
   ]
  },
  {
   "cell_type": "code",
   "execution_count": 15,
   "metadata": {},
   "outputs": [],
   "source": [
    "def write_sum(lst1):\n",
    "    \"\"\"\n",
    "    this function returns a sum of the list\n",
    "    \"\"\"\n",
    "    sum=0\n",
    "    for index in lst1:\n",
    "        sum=sum+index\n",
    "    return sum"
   ]
  },
  {
   "cell_type": "code",
   "execution_count": 16,
   "metadata": {},
   "outputs": [
    {
     "name": "stdout",
     "output_type": "stream",
     "text": [
      "21\n"
     ]
    }
   ],
   "source": [
    "sum=write_sum([1,2,3,4,5,6])\n",
    "print(sum)"
   ]
  },
  {
   "cell_type": "code",
   "execution_count": 19,
   "metadata": {},
   "outputs": [
    {
     "name": "stdout",
     "output_type": "stream",
     "text": [
      "20\n",
      "10\n",
      "20\n"
     ]
    },
    {
     "ename": "NameError",
     "evalue": "name 'b_local' is not defined",
     "output_type": "error",
     "traceback": [
      "\u001b[1;31m---------------------------------------------------------------------------\u001b[0m",
      "\u001b[1;31mNameError\u001b[0m                                 Traceback (most recent call last)",
      "\u001b[1;32m<ipython-input-19-2ef86d85104a>\u001b[0m in \u001b[0;36m<module>\u001b[1;34m()\u001b[0m\n\u001b[0;32m     10\u001b[0m \u001b[0mchangevalue\u001b[0m\u001b[1;33m(\u001b[0m\u001b[1;33m)\u001b[0m\u001b[1;33m\u001b[0m\u001b[0m\n\u001b[0;32m     11\u001b[0m \u001b[0mprint\u001b[0m\u001b[1;33m(\u001b[0m\u001b[0ma_global\u001b[0m\u001b[1;33m)\u001b[0m\u001b[1;33m\u001b[0m\u001b[0m\n\u001b[1;32m---> 12\u001b[1;33m \u001b[0mprint\u001b[0m\u001b[1;33m(\u001b[0m\u001b[0mb_local\u001b[0m\u001b[1;33m)\u001b[0m\u001b[1;33m\u001b[0m\u001b[0m\n\u001b[0m\u001b[0;32m     13\u001b[0m \u001b[1;33m\u001b[0m\u001b[0m\n\u001b[0;32m     14\u001b[0m \u001b[1;33m\u001b[0m\u001b[0m\n",
      "\u001b[1;31mNameError\u001b[0m: name 'b_local' is not defined"
     ]
    }
   ],
   "source": [
    "a_global=20\n",
    "def changevalue():\n",
    "    \"\"\"\n",
    "    this function is used to checking the scope of variable\n",
    "    \"\"\"\n",
    "    b_local=10\n",
    "    print(a_global)\n",
    "    print(b_local)\n",
    "    \n",
    "changevalue()\n",
    "print(a_global)\n",
    "print(b_local)\n",
    "\n",
    "#it will not print the vlauue of local cause the scope of local vairable is only within the fiunction\n",
    "    "
   ]
  },
  {
   "cell_type": "code",
   "execution_count": 23,
   "metadata": {},
   "outputs": [
    {
     "ename": "SyntaxError",
     "evalue": "invalid syntax (<ipython-input-23-3006af76d819>, line 7)",
     "output_type": "error",
     "traceback": [
      "\u001b[1;36m  File \u001b[1;32m\"<ipython-input-23-3006af76d819>\"\u001b[1;36m, line \u001b[1;32m7\u001b[0m\n\u001b[1;33m    if (n==1)\u001b[0m\n\u001b[1;37m             ^\u001b[0m\n\u001b[1;31mSyntaxError\u001b[0m\u001b[1;31m:\u001b[0m invalid syntax\n"
     ]
    }
   ],
   "source": [
    "#wap to find prime no.\n",
    "n=input()\n",
    "def prime(n):\n",
    "    \"\"\"\n",
    "    this function is returns the no. which is prime or not\n",
    "    \"\"\"\n",
    "    if (n==1);\n",
    "        print(\"this is a prime no...\")\n",
    "    else(n==2)\n",
    "        print(\"this is a prime no...\")\n",
    "\n",
    "    for i in range (3,i**0.5):\n",
    "        if (n%i==0):\n",
    "            print(n is not prime)\n",
    "            break\n",
    "            \n",
    "    "
   ]
  },
  {
   "cell_type": "code",
   "execution_count": 3,
   "metadata": {},
   "outputs": [
    {
     "name": "stdout",
     "output_type": "stream",
     "text": [
      "11\n",
      "its a prime\n"
     ]
    }
   ],
   "source": [
    "number=int(input())\n",
    "def check_prime():\n",
    "    if(number==1):\n",
    "        print(\"not a prime\")\n",
    "    elif(number==2):\n",
    "        print(\"its a prime\")\n",
    "    else:\n",
    "        for i in range(2,number):\n",
    "            if(number%2==0):\n",
    "                print(\"its not a prime\")\n",
    "            print(\"its a prime\")\n",
    "            break\n",
    "check_prime()\n",
    "\n"
   ]
  },
  {
   "cell_type": "code",
   "execution_count": 4,
   "metadata": {},
   "outputs": [
    {
     "name": "stdout",
     "output_type": "stream",
     "text": [
      "2.8\n"
     ]
    }
   ],
   "source": [
    "#built in function\n",
    "\n",
    "a = -2.8\n",
    "print(abs(a))\n"
   ]
  },
  {
   "cell_type": "code",
   "execution_count": 6,
   "metadata": {},
   "outputs": [
    {
     "name": "stdout",
     "output_type": "stream",
     "text": [
      "True\n",
      "False\n",
      "True\n"
     ]
    }
   ],
   "source": [
    "#all()\n",
    "lst=[1,2,3,4,5]\n",
    "print(all(lst))\n",
    "\n",
    "lst=[1,0,3,5]\n",
    "print(all(lst))\n",
    "\n",
    "\n",
    "lst=[]\n",
    "print(all(lst))"
   ]
  },
  {
   "cell_type": "code",
   "execution_count": 7,
   "metadata": {},
   "outputs": [
    {
     "name": "stdout",
     "output_type": "stream",
     "text": [
      "(6, 2)\n"
     ]
    }
   ],
   "source": [
    "#divmod \n",
    "print(divmod(20,3))\n",
    "#it returns in the form of tupples"
   ]
  },
  {
   "cell_type": "code",
   "execution_count": 13,
   "metadata": {},
   "outputs": [
    {
     "name": "stdout",
     "output_type": "stream",
     "text": [
      "index 10 index has value 1\n",
      "index 11 index has value 3\n",
      "index 12 index has value 6\n",
      "index 13 index has value 9\n",
      "index 14 index has value 12\n"
     ]
    }
   ],
   "source": [
    "numberlst=[1,3,6,9,12]\n",
    "for index,number in enumerate(numberlst,10):\n",
    "    print(\"index {0} index has value {1}\".format(index, number))\n"
   ]
  },
  {
   "cell_type": "code",
   "execution_count": 17,
   "metadata": {},
   "outputs": [],
   "source": [
    "#filter()\n",
    "\n",
    "def checkpositive(num):\n",
    "    if num>0:\n",
    "        return num"
   ]
  },
  {
   "cell_type": "code",
   "execution_count": 18,
   "metadata": {},
   "outputs": [
    {
     "name": "stdout",
     "output_type": "stream",
     "text": [
      "[-5, -4, -3, -2, -1, 0, 1, 2, 3, 4]\n",
      "[1, 2, 3, 4]\n"
     ]
    }
   ],
   "source": [
    "numberlist=range(-5,5)\n",
    "print(list(numberlist))\n",
    "\n",
    "positivenumberlist=list(filter(checkpositive, numberlist))\n",
    "print(positivenumberlist)\n"
   ]
  },
  {
   "cell_type": "code",
   "execution_count": 2,
   "metadata": {},
   "outputs": [
    {
     "name": "stdout",
     "output_type": "stream",
     "text": [
      "True\n",
      "True\n"
     ]
    }
   ],
   "source": [
    "list3=[1,2,3,4]\n",
    "print(isinstance(list3,list))\n",
    "\n",
    "t=(1,2,3,4)\n",
    "print(isinstance(t, tuple))"
   ]
  },
  {
   "cell_type": "code",
   "execution_count": 1,
   "metadata": {},
   "outputs": [
    {
     "name": "stdout",
     "output_type": "stream",
     "text": [
      "hello catalyst you are welcome\n"
     ]
    }
   ],
   "source": [
    "def saywelcome(name,msg):\n",
    "    \"\"\"\n",
    "    to welcome guest\n",
    "    \"\"\"\n",
    "    print(\"hello {0} {1}\".format(name,msg))\n",
    "    \n",
    "saywelcome(\"catalyst\",\"you are welcome\")    "
   ]
  },
  {
   "cell_type": "code",
   "execution_count": 2,
   "metadata": {},
   "outputs": [
    {
     "ename": "TypeError",
     "evalue": "saywelcome() missing 1 required positional argument: 'msg'",
     "output_type": "error",
     "traceback": [
      "\u001b[1;31m---------------------------------------------------------------------------\u001b[0m",
      "\u001b[1;31mTypeError\u001b[0m                                 Traceback (most recent call last)",
      "\u001b[1;32m<ipython-input-2-6049b3c6a7e7>\u001b[0m in \u001b[0;36m<module>\u001b[1;34m()\u001b[0m\n\u001b[1;32m----> 1\u001b[1;33m \u001b[0msaywelcome\u001b[0m\u001b[1;33m(\u001b[0m\u001b[1;34m'catalyst'\u001b[0m\u001b[1;33m)\u001b[0m\u001b[1;33m\u001b[0m\u001b[0m\n\u001b[0m",
      "\u001b[1;31mTypeError\u001b[0m: saywelcome() missing 1 required positional argument: 'msg'"
     ]
    }
   ],
   "source": [
    "saywelcome('catalyst')"
   ]
  },
  {
   "cell_type": "code",
   "execution_count": 3,
   "metadata": {},
   "outputs": [
    {
     "name": "stdout",
     "output_type": "stream",
     "text": [
      "hi catlyst u r welcome\n"
     ]
    }
   ],
   "source": [
    "#kwarsgs - it allow you to passs any no. of args to the function\n",
    "\n",
    "def sayhello(**kwargs):\n",
    "    if kwargs:\n",
    "        print(\"hi {0} {1}\".format(kwargs['name'],kwargs['msg']))\n",
    "sayhello(name='catlyst', msg='u r welcome')        \n",
    "\n",
    "#the sequence of the args hould be crrect"
   ]
  },
  {
   "cell_type": "code",
   "execution_count": 5,
   "metadata": {},
   "outputs": [
    {
     "name": "stdout",
     "output_type": "stream",
     "text": [
      "hello catalyst u r welcome\n"
     ]
    }
   ],
   "source": [
    "def saywelcome(name,msg='u r welcome'):\n",
    "    print(\"hello {0} {1}\" . format(name,msg))\n",
    "saywelcome(\"catalyst\")"
   ]
  },
  {
   "cell_type": "code",
   "execution_count": 6,
   "metadata": {},
   "outputs": [
    {
     "ename": "SyntaxError",
     "evalue": "non-default argument follows default argument (<ipython-input-6-851925d418d2>, line 1)",
     "output_type": "error",
     "traceback": [
      "\u001b[1;36m  File \u001b[1;32m\"<ipython-input-6-851925d418d2>\"\u001b[1;36m, line \u001b[1;32m1\u001b[0m\n\u001b[1;33m    def saywelcome(msg='u r welcome',name):\u001b[0m\n\u001b[1;37m                  ^\u001b[0m\n\u001b[1;31mSyntaxError\u001b[0m\u001b[1;31m:\u001b[0m non-default argument follows default argument\n"
     ]
    }
   ],
   "source": [
    "def saywelcome(msg='u r welcome',name):\n",
    "    print(\"hello {0} {1}\" . format(name,msg))\n",
    "saywelcome(\"catalyst\")\n",
    "\n",
    "#it gives error cause the no, of sequence is given in the pro. is swapped"
   ]
  },
  {
   "cell_type": "code",
   "execution_count": 9,
   "metadata": {},
   "outputs": [
    {
     "name": "stdout",
     "output_type": "stream",
     "text": [
      "('vishal', 'shekhar', 'shubham', 'chinmay')\n",
      "hello,vishal\n",
      "hello,shekhar\n",
      "hello,shubham\n",
      "hello,chinmay\n"
     ]
    }
   ],
   "source": [
    "#arbitrory args\n",
    "\n",
    "def sayhi(*names):\n",
    "    print(names)\n",
    "    for name in names:\n",
    "        print(\"hello,{0}\".format(name))\n",
    "        \n",
    "#            for name in names \n",
    "#               print(\"hello,{0} \")\n",
    "sayhi(\"vishal\", \"shekhar\",\"shubham\",\"chinmay\")"
   ]
  },
  {
   "cell_type": "code",
   "execution_count": 3,
   "metadata": {},
   "outputs": [
    {
     "name": "stdout",
     "output_type": "stream",
     "text": [
      "fact of 5 is :\n"
     ]
    },
    {
     "ename": "NameError",
     "evalue": "name 'pdb' is not defined",
     "output_type": "error",
     "traceback": [
      "\u001b[1;31m---------------------------------------------------------------------------\u001b[0m",
      "\u001b[1;31mNameError\u001b[0m                                 Traceback (most recent call last)",
      "\u001b[1;32m<ipython-input-3-44bf8003279b>\u001b[0m in \u001b[0;36m<module>\u001b[1;34m()\u001b[0m\n\u001b[0;32m      6\u001b[0m     \u001b[0mfact\u001b[0m\u001b[1;33m=\u001b[0m\u001b[0mfact\u001b[0m\u001b[1;33m*\u001b[0m\u001b[0mi\u001b[0m\u001b[1;33m\u001b[0m\u001b[0m\n\u001b[0;32m      7\u001b[0m \u001b[0mprint\u001b[0m\u001b[1;33m(\u001b[0m\u001b[1;34m\"fact of 5 is :\"\u001b[0m\u001b[1;33m)\u001b[0m\u001b[1;33m\u001b[0m\u001b[0m\n\u001b[1;32m----> 8\u001b[1;33m \u001b[0mpdb\u001b[0m\u001b[1;33m.\u001b[0m\u001b[0mset_trace\u001b[0m\u001b[1;33m(\u001b[0m\u001b[1;33m)\u001b[0m\u001b[1;33m\u001b[0m\u001b[0m\n\u001b[0m\u001b[0;32m      9\u001b[0m \u001b[0mprint\u001b[0m\u001b[1;33m(\u001b[0m\u001b[0mfact\u001b[0m\u001b[1;33m)\u001b[0m\u001b[1;33m\u001b[0m\u001b[0m\n",
      "\u001b[1;31mNameError\u001b[0m: name 'pdb' is not defined"
     ]
    }
   ],
   "source": [
    "#factorial\n",
    "\n",
    "n=5\n",
    "fact=1\n",
    "for i in range(1,n+1):\n",
    "    fact=fact*i\n",
    "print(\"fact of 5 is :\")\n",
    "print(fact)"
   ]
  },
  {
   "cell_type": "code",
   "execution_count": 6,
   "metadata": {},
   "outputs": [],
   "source": [
    "#recursion\n",
    "def fact(n):\n",
    "    if(n==1):\n",
    "        return 1\n",
    "    else:\n",
    "        return n*fact(n-1)\n",
    "    "
   ]
  },
  {
   "cell_type": "code",
   "execution_count": null,
   "metadata": {},
   "outputs": [
    {
     "name": "stdout",
     "output_type": "stream",
     "text": [
      "--Return--\n",
      "> <ipython-input-7-a27082fc27f3>(1)<module>()->None\n",
      "-> pdb.set_trace()\n",
      "(Pdb) w\n",
      "  c:\\programdata\\anaconda3\\lib\\runpy.py(193)_run_module_as_main()\n",
      "-> \"__main__\", mod_spec)\n",
      "  c:\\programdata\\anaconda3\\lib\\runpy.py(85)_run_code()\n",
      "-> exec(code, run_globals)\n",
      "  c:\\programdata\\anaconda3\\lib\\site-packages\\ipykernel_launcher.py(16)<module>()\n",
      "-> app.launch_new_instance()\n",
      "  c:\\programdata\\anaconda3\\lib\\site-packages\\traitlets\\config\\application.py(658)launch_instance()\n",
      "-> app.start()\n",
      "  c:\\programdata\\anaconda3\\lib\\site-packages\\ipykernel\\kernelapp.py(486)start()\n",
      "-> self.io_loop.start()\n",
      "  c:\\programdata\\anaconda3\\lib\\site-packages\\tornado\\platform\\asyncio.py(127)start()\n",
      "-> self.asyncio_loop.run_forever()\n",
      "  c:\\programdata\\anaconda3\\lib\\asyncio\\base_events.py(422)run_forever()\n",
      "-> self._run_once()\n",
      "  c:\\programdata\\anaconda3\\lib\\asyncio\\base_events.py(1432)_run_once()\n",
      "-> handle._run()\n",
      "  c:\\programdata\\anaconda3\\lib\\asyncio\\events.py(145)_run()\n",
      "-> self._callback(*self._args)\n",
      "  c:\\programdata\\anaconda3\\lib\\site-packages\\tornado\\platform\\asyncio.py(117)_handle_events()\n",
      "-> handler_func(fileobj, events)\n",
      "  c:\\programdata\\anaconda3\\lib\\site-packages\\tornado\\stack_context.py(276)null_wrapper()\n",
      "-> return fn(*args, **kwargs)\n",
      "  c:\\programdata\\anaconda3\\lib\\site-packages\\zmq\\eventloop\\zmqstream.py(450)_handle_events()\n",
      "-> self._handle_recv()\n",
      "  c:\\programdata\\anaconda3\\lib\\site-packages\\zmq\\eventloop\\zmqstream.py(480)_handle_recv()\n",
      "-> self._run_callback(callback, msg)\n",
      "  c:\\programdata\\anaconda3\\lib\\site-packages\\zmq\\eventloop\\zmqstream.py(432)_run_callback()\n",
      "-> callback(*args, **kwargs)\n",
      "  c:\\programdata\\anaconda3\\lib\\site-packages\\tornado\\stack_context.py(276)null_wrapper()\n",
      "-> return fn(*args, **kwargs)\n",
      "  c:\\programdata\\anaconda3\\lib\\site-packages\\ipykernel\\kernelbase.py(283)dispatcher()\n",
      "-> return self.dispatch_shell(stream, msg)\n",
      "  c:\\programdata\\anaconda3\\lib\\site-packages\\ipykernel\\kernelbase.py(233)dispatch_shell()\n",
      "-> handler(stream, idents, msg)\n",
      "  c:\\programdata\\anaconda3\\lib\\site-packages\\ipykernel\\kernelbase.py(399)execute_request()\n",
      "-> user_expressions, allow_stdin)\n",
      "  c:\\programdata\\anaconda3\\lib\\site-packages\\ipykernel\\ipkernel.py(208)do_execute()\n",
      "-> res = shell.run_cell(code, store_history=store_history, silent=silent)\n",
      "  c:\\programdata\\anaconda3\\lib\\site-packages\\ipykernel\\zmqshell.py(537)run_cell()\n",
      "-> return super(ZMQInteractiveShell, self).run_cell(*args, **kwargs)\n",
      "  c:\\programdata\\anaconda3\\lib\\site-packages\\ipython\\core\\interactiveshell.py(2662)run_cell()\n",
      "-> raw_cell, store_history, silent, shell_futures)\n",
      "  c:\\programdata\\anaconda3\\lib\\site-packages\\ipython\\core\\interactiveshell.py(2785)_run_cell()\n",
      "-> interactivity=interactivity, compiler=compiler, result=result)\n",
      "  c:\\programdata\\anaconda3\\lib\\site-packages\\ipython\\core\\interactiveshell.py(2903)run_ast_nodes()\n",
      "-> if self.run_code(code, result):\n",
      "  c:\\programdata\\anaconda3\\lib\\site-packages\\ipython\\core\\interactiveshell.py(2963)run_code()\n",
      "-> exec(code_obj, self.user_global_ns, self.user_ns)\n",
      "> <ipython-input-7-a27082fc27f3>(1)<module>()->None\n",
      "-> pdb.set_trace()\n"
     ]
    }
   ],
   "source": [
    "\n",
    "fact(5)"
   ]
  },
  {
   "cell_type": "code",
   "execution_count": 5,
   "metadata": {},
   "outputs": [
    {
     "ename": "NameError",
     "evalue": "name 'num' is not defined",
     "output_type": "error",
     "traceback": [
      "\u001b[1;31m---------------------------------------------------------------------------\u001b[0m",
      "\u001b[1;31mNameError\u001b[0m                                 Traceback (most recent call last)",
      "\u001b[1;32m<ipython-input-5-a121a82ecb58>\u001b[0m in \u001b[0;36m<module>\u001b[1;34m()\u001b[0m\n\u001b[0;32m      1\u001b[0m \u001b[1;32mdef\u001b[0m \u001b[0mfact\u001b[0m\u001b[1;33m(\u001b[0m\u001b[0mnum\u001b[0m\u001b[1;33m)\u001b[0m\u001b[1;33m:\u001b[0m\u001b[1;33m\u001b[0m\u001b[0m\n\u001b[0;32m      2\u001b[0m     \u001b[1;32mreturn\u001b[0m \u001b[1;36m1\u001b[0m \u001b[1;32mif\u001b[0m\u001b[1;33m(\u001b[0m\u001b[0mn\u001b[0m\u001b[1;33m==\u001b[0m\u001b[1;36m1\u001b[0m\u001b[1;33m)\u001b[0m \u001b[1;32melse\u001b[0m \u001b[1;33m(\u001b[0m\u001b[0mnum\u001b[0m\u001b[1;33m*\u001b[0m\u001b[0mfact\u001b[0m\u001b[1;33m(\u001b[0m\u001b[0mn\u001b[0m\u001b[1;33m-\u001b[0m\u001b[1;36m1\u001b[0m\u001b[1;33m)\u001b[0m\u001b[1;33m)\u001b[0m\u001b[1;33m\u001b[0m\u001b[0m\n\u001b[1;32m----> 3\u001b[1;33m \u001b[0mprint\u001b[0m\u001b[1;33m(\u001b[0m\u001b[1;34m\"the factorial is {0}\"\u001b[0m\u001b[1;33m.\u001b[0m\u001b[0mformat\u001b[0m\u001b[1;33m(\u001b[0m\u001b[0mnum\u001b[0m\u001b[1;33m)\u001b[0m\u001b[1;33m)\u001b[0m\u001b[1;33m\u001b[0m\u001b[0m\n\u001b[0m",
      "\u001b[1;31mNameError\u001b[0m: name 'num' is not defined"
     ]
    }
   ],
   "source": [
    "def fact(num):\n",
    "    return 1 if(n==1) else (num*fact(n-1))\n",
    "print(\"the factorial is {0}\".format(num))"
   ]
  },
  {
   "cell_type": "code",
   "execution_count": 31,
   "metadata": {},
   "outputs": [
    {
     "data": {
      "text/plain": [
       "24"
      ]
     },
     "execution_count": 31,
     "metadata": {},
     "output_type": "execute_result"
    }
   ],
   "source": [
    "num=5\n",
    "fact(num)"
   ]
  },
  {
   "cell_type": "code",
   "execution_count": 1,
   "metadata": {},
   "outputs": [
    {
     "ename": "ModuleNotFoundError",
     "evalue": "No module named 'functions'",
     "output_type": "error",
     "traceback": [
      "\u001b[1;31m---------------------------------------------------------------------------\u001b[0m",
      "\u001b[1;31mModuleNotFoundError\u001b[0m                       Traceback (most recent call last)",
      "\u001b[1;32m<ipython-input-1-01a49f1064bc>\u001b[0m in \u001b[0;36m<module>\u001b[1;34m()\u001b[0m\n\u001b[1;32m----> 1\u001b[1;33m \u001b[1;32mimport\u001b[0m \u001b[0mfunctions\u001b[0m\u001b[1;33m\u001b[0m\u001b[0m\n\u001b[0m",
      "\u001b[1;31mModuleNotFoundError\u001b[0m: No module named 'functions'"
     ]
    }
   ],
   "source": [
    "import functions"
   ]
  },
  {
   "cell_type": "code",
   "execution_count": null,
   "metadata": {},
   "outputs": [],
   "source": []
  }
 ],
 "metadata": {
  "kernelspec": {
   "display_name": "Python 3",
   "language": "python",
   "name": "python3"
  },
  "language_info": {
   "codemirror_mode": {
    "name": "ipython",
    "version": 3
   },
   "file_extension": ".py",
   "mimetype": "text/x-python",
   "name": "python",
   "nbconvert_exporter": "python",
   "pygments_lexer": "ipython3",
   "version": "3.6.5"
  }
 },
 "nbformat": 4,
 "nbformat_minor": 2
}
